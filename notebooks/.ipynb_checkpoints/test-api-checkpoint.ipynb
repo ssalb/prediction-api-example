{
 "cells": [
  {
   "cell_type": "code",
   "execution_count": 1,
   "metadata": {},
   "outputs": [],
   "source": [
    "import requests\n",
    "import json\n",
    "from sklearn import datasets"
   ]
  },
  {
   "cell_type": "code",
   "execution_count": 2,
   "metadata": {},
   "outputs": [
    {
     "name": "stdout",
     "output_type": "stream",
     "text": [
      "['sepal length (cm)', 'sepal width (cm)', 'petal length (cm)', 'petal width (cm)'] [[5.1 3.5 1.4 0.2]\n",
      " [4.9 3.  1.4 0.2]\n",
      " [4.7 3.2 1.3 0.2]]\n",
      "['setosa' 'versicolor' 'virginica'] [0 0 0]\n"
     ]
    }
   ],
   "source": [
    "iris = datasets.load_iris()\n",
    "print(iris['feature_names'], iris['data'][:3])\n",
    "print(iris['target_names'], iris['target'][:3])"
   ]
  },
  {
   "cell_type": "code",
   "execution_count": 3,
   "metadata": {},
   "outputs": [],
   "source": [
    "# These samples were not used for training. Results won't make much sense. This is just for illustration\n",
    "X_test, y_test = iris['data'][-10:], iris['target'][-10:]"
   ]
  },
  {
   "cell_type": "code",
   "execution_count": 6,
   "metadata": {},
   "outputs": [
    {
     "name": "stdout",
     "output_type": "stream",
     "text": [
      "{'prediction': 2} 2\n",
      "{'prediction': 2} 2\n",
      "{'prediction': 2} 2\n",
      "{'prediction': 2} 2\n",
      "{'prediction': 2} 2\n",
      "{'prediction': 2} 2\n",
      "{'prediction': 2} 2\n",
      "{'prediction': 2} 2\n",
      "{'prediction': 2} 2\n",
      "{'prediction': 2} 2\n"
     ]
    }
   ],
   "source": [
    "responses = []\n",
    "for x in X_test:\n",
    "    data = {}\n",
    "    data['payload'] = x.tolist()\n",
    "    responses.append(requests.post('http://localhost:5000/api/v1/predict', json=data))\n",
    "\n",
    "for i, r in enumerate(responses):\n",
    "    pred = r.json()[\"payload\"]\n",
    "    print(pred, y_test[i])"
   ]
  },
  {
   "cell_type": "code",
   "execution_count": null,
   "metadata": {},
   "outputs": [],
   "source": []
  }
 ],
 "metadata": {
  "kernelspec": {
   "display_name": "Python 3",
   "language": "python",
   "name": "python3"
  },
  "language_info": {
   "codemirror_mode": {
    "name": "ipython",
    "version": 3
   },
   "file_extension": ".py",
   "mimetype": "text/x-python",
   "name": "python",
   "nbconvert_exporter": "python",
   "pygments_lexer": "ipython3",
   "version": "3.6.9"
  }
 },
 "nbformat": 4,
 "nbformat_minor": 2
}
